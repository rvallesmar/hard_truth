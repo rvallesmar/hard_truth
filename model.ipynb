{
 "cells": [
  {
   "cell_type": "markdown",
   "id": "bb64ea4d",
   "metadata": {},
   "source": [
    "This notebook will contain the process of extracting the text embeddings to build the hard truth, and the testing of that implementation"
   ]
  }
 ],
 "metadata": {
  "kernelspec": {
   "display_name": "Python 3",
   "language": "python",
   "name": "python3"
  },
  "language_info": {
   "name": "python",
   "version": "3.10.11"
  }
 },
 "nbformat": 4,
 "nbformat_minor": 5
}
